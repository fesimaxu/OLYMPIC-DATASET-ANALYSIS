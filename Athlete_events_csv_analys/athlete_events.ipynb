{
 "cells": [
  {
   "cell_type": "code",
   "execution_count": 1,
   "id": "6a448a52",
   "metadata": {},
   "outputs": [],
   "source": [
    "import pandas as pd\n",
    "import numpy as np"
   ]
  },
  {
   "cell_type": "code",
   "execution_count": 2,
   "id": "5979c920",
   "metadata": {},
   "outputs": [],
   "source": [
    "import matplotlib.pyplot as plt\n",
    "import seaborn as sns\n",
    "\n",
    "%matplotlib inline"
   ]
  },
  {
   "cell_type": "code",
   "execution_count": 3,
   "id": "6cfe927b",
   "metadata": {},
   "outputs": [],
   "source": [
    "df = pd.read_csv(\"C:\\\\Users\\\\Igwe\\\\Downloads\\\\Olympic_Athletes\\\\athlete_events.csv\", index_col='ID')\n",
    "df.fillna(0, inplace=True)"
   ]
  },
  {
   "cell_type": "code",
   "execution_count": 4,
   "id": "68cb70f2",
   "metadata": {},
   "outputs": [],
   "source": [
    "df.head()"
   ]
  },
  {
   "cell_type": "code",
   "execution_count": 5,
   "id": "0215cc5f",
   "metadata": {},
   "outputs": [],
   "source": [
    "df.tail()"
   ]
  },
  {
   "cell_type": "code",
   "execution_count": 6,
   "id": "33299d4a",
   "metadata": {},
   "outputs": [],
   "source": [
    "df.dtypes"
   ]
  },
  {
   "cell_type": "code",
   "execution_count": 7,
   "id": "398fafff",
   "metadata": {},
   "outputs": [],
   "source": [
    "df['Team'].value_counts().idxmax()"
   ]
  },
  {
   "cell_type": "code",
   "execution_count": 8,
   "id": "e194fc55",
   "metadata": {},
   "outputs": [],
   "source": [
    "df['Year'].max()"
   ]
  },
  {
   "cell_type": "code",
   "execution_count": 9,
   "id": "6d32dd20",
   "metadata": {},
   "outputs": [],
   "source": [
    "df['Year'].min()"
   ]
  },
  {
   "cell_type": "code",
   "execution_count": 10,
   "id": "74439862",
   "metadata": {},
   "outputs": [],
   "source": [
    "Athlete_Data= df.agg(\n",
    "     {\n",
    "            \"Age\": [\"min\", \"max\", \"median\", \"skew\", \"mean\"],\n",
    "            \"Height\": [\"min\", \"max\", \"median\", \"skew\", \"mean\"],\n",
    "            \"Weight\": [\"min\", \"max\", \"median\", \"skew\", \"mean\"],\n",
    "       }\n",
    "   )"
   ]
  },
  {
   "cell_type": "code",
   "execution_count": 11,
   "id": "7a745ecc",
   "metadata": {},
   "outputs": [],
   "source": [
    "Athlete_Data"
   ]
  },
  {
   "cell_type": "code",
   "execution_count": 12,
   "id": "676631a3",
   "metadata": {},
   "outputs": [],
   "source": [
    "df[[\"Age\", \"Height\", \"Weight\"]].describe()"
   ]
  },
  {
   "cell_type": "code",
   "execution_count": 13,
   "id": "48daaa69",
   "metadata": {},
   "outputs": [],
   "source": [
    "top_10 = df[\"Team\"].value_counts()[0:10]\n",
    "\n",
    "top_10.plot(kind = 'bar', figsize =(10,8))\n",
    "plt.title('All Time Medals of top 10 Teams')"
   ]
  },
  {
   "cell_type": "code",
   "execution_count": 14,
   "id": "53cfa120",
   "metadata": {},
   "outputs": [],
   "source": [
    "US_medal_table = df[df['Team'] == 'United States']['Medal'].value_counts()\n",
    "\n",
    "US_medal_table.plot(kind = 'bar', figsize = (10,8))\n",
    "plt.title('All Time Medals of United States Medal Table')"
   ]
  },
  {
   "cell_type": "code",
   "execution_count": 15,
   "id": "5d96552e",
   "metadata": {},
   "outputs": [],
   "source": [
    "US_medal_table = df[df['Team'] == 'Nigeria']['Medal'].value_counts()\n",
    "\n",
    "US_medal_table.plot(kind = 'bar', figsize = (10,8))\n",
    "plt.title('All Time Medals of Nigeria Medal Table')"
   ]
  },
  {
   "cell_type": "code",
   "execution_count": 16,
   "id": "6ebf5240",
   "metadata": {},
   "outputs": [],
   "source": [
    "US_medal_table = df[df['Team'] == 'United States']['Sport'].value_counts()\n",
    "\n",
    "US_medal_table.plot(kind = 'bar', figsize = (10,8))\n",
    "plt.title('All Time United States Olympic Sport Table')"
   ]
  },
  {
   "cell_type": "code",
   "execution_count": 17,
   "id": "06ef9100",
   "metadata": {},
   "outputs": [],
   "source": [
    "US_medal_table = df[df['Team'] == 'Nigeria']['Sport'].value_counts()\n",
    "\n",
    "US_medal_table.plot(kind = 'bar', figsize = (10,8))\n",
    "plt.title('All Time Nigeria Olympic Sport Table')"
   ]
  },
  {
   "cell_type": "code",
   "execution_count": 18,
   "id": "fa71bd52",
   "metadata": {},
   "outputs": [],
   "source": [
    "plt.figure(figsize=(20, 8))\n",
    "sns.countplot(df['Year'])\n",
    "\n",
    "plt.xlabel('Years')\n",
    "plt.ylabel('No. of Name')\n",
    "\n",
    "plt.title('Total Athletes contribution in olympics over time')"
   ]
  },
  {
   "cell_type": "code",
   "execution_count": 19,
   "id": "ba542df4",
   "metadata": {},
   "outputs": [],
   "source": [
    "plt.figure(figsize=(15, 5))\n",
    "highest_sport = df['Sport'].value_counts().index\n",
    "sns.countplot(data=df, x='Sport', order=highest_sport)\n",
    "plt.xticks(rotation=75)\n",
    "plt.title('Sports with most awarded Medals')\n",
    "plt.xlabel('Sport')\n",
    "plt.ylabel('No. of Medals')"
   ]
  },
  {
   "cell_type": "code",
   "execution_count": 20,
   "id": "e7e62a08",
   "metadata": {},
   "outputs": [],
   "source": [
    "plt.figure(figsize=(20, 5))\n",
    "team_highest_sport = df[df['Team'] == 'United States']['Sport'].value_counts().index\n",
    "sns.countplot(data=df, x='Sport', order=team_highest_sport)\n",
    "plt.xticks(rotation=75)\n",
    "plt.title('United States Sports with most awarded Medals')\n",
    "plt.xlabel('Sport')\n",
    "plt.ylabel('No. of Medals')"
   ]
  },
  {
   "cell_type": "code",
   "execution_count": 21,
   "id": "c46f5a30",
   "metadata": {},
   "outputs": [],
   "source": [
    "plt.figure(figsize=(20, 5))\n",
    "team_highest_sport = df[df['Team'] == 'Nigeria']['Sport'].value_counts().index\n",
    "sns.countplot(data=df, x='Sport', order=team_highest_sport)\n",
    "plt.xticks(rotation=75)\n",
    "plt.title('Nigeria Sports with most awarded Medals')\n",
    "plt.xlabel('Sport')\n",
    "plt.ylabel('No. of Medals')"
   ]
  },
  {
   "cell_type": "code",
   "execution_count": 22,
   "id": "22c759d2",
   "metadata": {},
   "outputs": [],
   "source": [
    "athlete_order = df['Name'].value_counts().head(10).index\n",
    "plt.figure(figsize=(9, 5))\n",
    "sns.countplot(data=df, y='Name', order=athlete_order)\n",
    "plt.title('Top 10 Athletes with the most awarded Medals')\n",
    "plt.xlabel('No. of awrded medals')\n",
    "plt.ylabel('Athlete Name');"
   ]
  },
  {
   "cell_type": "code",
   "execution_count": 23,
   "id": "c3e1e76c",
   "metadata": {},
   "outputs": [],
   "source": [
    "sns.countplot(x=\"Medal\", hue=\"Sex\", data=df)\n",
    "plt.title('Medals by Sex')"
   ]
  },
  {
   "cell_type": "code",
   "execution_count": 24,
   "id": "59e96be1",
   "metadata": {},
   "outputs": [],
   "source": [
    "Sex_group = df.groupby(['Year', 'Sex']).size().unstack()\n",
    "\n",
    "Sex_group.apply(lambda x:x/x.sum(), axis=1).plot(kind='barh', stacked=True, legend=False)\n",
    "\n",
    "plt.legend(['Men', 'Women'], bbox_to_anchor=(1.0, 0.7))\n",
    "\n",
    "plt.xlabel('Men / Women ratio')\n",
    "plt.title('The gender ratio in summer Olympics')"
   ]
  }
 ],
 "metadata": {},
 "nbformat": 4,
 "nbformat_minor": 5
}
